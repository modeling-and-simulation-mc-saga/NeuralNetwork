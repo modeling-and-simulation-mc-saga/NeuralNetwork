{
 "cells": [
  {
   "cell_type": "code",
   "execution_count": null,
   "metadata": {},
   "outputs": [],
   "source": [
    "import matplotlib.pyplot as plt\n",
    "import math\n",
    "from typing import Callable\n",
    "import sys\n",
    "sys.path.append(\"../lib\")\n",
    "from pylib import pltInit,Point,DataFile"
   ]
  },
  {
   "cell_type": "code",
   "execution_count": null,
   "metadata": {},
   "outputs": [],
   "source": [
    "def draw(filename:str,xMax:float,yMax:float,alpha:float,c:float):\n",
    "    plt.figure(figsize=(9,6),facecolor='white')\n",
    "    plt.title(f'Learning XOR ($\\\\alpha={alpha}, c={c}$)')\n",
    "    plt.xlim(0,xMax)\n",
    "    plt.ylim(0,yMax)\n",
    "    plt.xlabel('$t$')\n",
    "    plt.ylabel('$E$')\n",
    "    xl, yl = DataFile(filename).readData()\n",
    "    plt.plot(xl,yl)\n",
    "    plt.savefig(filename.replace('.txt','.pdf'))\n"
   ]
  },
  {
   "cell_type": "code",
   "execution_count": null,
   "metadata": {},
   "outputs": [],
   "source": [
    "pltInit()\n",
    "draw('learningXOR.txt',1000,1,1,.1)\n",
    "draw('learningXOR3.txt',10000,1,1,.01)\n"
   ]
  }
 ],
 "metadata": {
  "kernelspec": {
   "display_name": "myenv",
   "language": "python",
   "name": "python3"
  },
  "language_info": {
   "codemirror_mode": {
    "name": "ipython",
    "version": 3
   },
   "file_extension": ".py",
   "mimetype": "text/x-python",
   "name": "python",
   "nbconvert_exporter": "python",
   "pygments_lexer": "ipython3",
   "version": "3.10.8"
  },
  "orig_nbformat": 4,
  "vscode": {
   "interpreter": {
    "hash": "b3b804b6b7a7d9b475cf928428dd1242016eacc24c47853aaf0f8d1d2228aa39"
   }
  }
 },
 "nbformat": 4,
 "nbformat_minor": 2
}
