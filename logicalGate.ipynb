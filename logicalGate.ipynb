{
 "cells": [
  {
   "cell_type": "code",
   "execution_count": null,
   "metadata": {},
   "outputs": [],
   "source": [
    "import matplotlib.pyplot as plt\n",
    "import math\n",
    "from typing import Callable\n",
    "import sys\n",
    "sys.path.append(\"../lib\")\n",
    "from pylib import pltInit,Point,DataFile"
   ]
  },
  {
   "cell_type": "code",
   "execution_count": null,
   "metadata": {},
   "outputs": [],
   "source": [
    "def draw(xMax:float,yMax:float):\n",
    "    plt.figure(figsize=(9,6),facecolor='white')\n",
    "    \n",
    "    plt.xlim(0,xMax)\n",
    "    plt.ylim(-yMax,yMax)\n",
    "    plt.xlabel('$t$')\n",
    "    plt.ylabel('$m$')\n",
    "    for g in ['and','or','not']:\n",
    "        input = g+'Gate.txt'\n",
    "        xl, yl = DataFile(input).readData()\n",
    "        plt.plot(xl,yl,linewidth=5,label=g.upper())\n",
    "    plt.legend()\n",
    "    plt.savefig('logicalGate.pdf')\n"
   ]
  },
  {
   "cell_type": "code",
   "execution_count": null,
   "metadata": {},
   "outputs": [],
   "source": [
    "pltInit()\n",
    "draw(700,1)\n"
   ]
  }
 ],
 "metadata": {
  "kernelspec": {
   "display_name": "myenv",
   "language": "python",
   "name": "python3"
  },
  "language_info": {
   "codemirror_mode": {
    "name": "ipython",
    "version": 3
   },
   "file_extension": ".py",
   "mimetype": "text/x-python",
   "name": "python",
   "nbconvert_exporter": "python",
   "pygments_lexer": "ipython3",
   "version": "3.10.8"
  },
  "orig_nbformat": 4,
  "vscode": {
   "interpreter": {
    "hash": "b3b804b6b7a7d9b475cf928428dd1242016eacc24c47853aaf0f8d1d2228aa39"
   }
  }
 },
 "nbformat": 4,
 "nbformat_minor": 2
}
